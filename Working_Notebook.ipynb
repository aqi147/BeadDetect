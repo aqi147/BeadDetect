{
  "nbformat": 4,
  "nbformat_minor": 0,
  "metadata": {
    "colab": {
      "provenance": [],
      "authorship_tag": "ABX9TyMWfsjGZG00q1G8dyXbJyZI",
      "include_colab_link": true
    },
    "kernelspec": {
      "name": "python3",
      "display_name": "Python 3"
    },
    "language_info": {
      "name": "python"
    }
  },
  "cells": [
    {
      "cell_type": "markdown",
      "metadata": {
        "id": "view-in-github",
        "colab_type": "text"
      },
      "source": [
        "<a href=\"https://colab.research.google.com/github/aqi147/BeadDetect/blob/main/Working_Notebook.ipynb\" target=\"_parent\"><img src=\"https://colab.research.google.com/assets/colab-badge.svg\" alt=\"Open In Colab\"/></a>"
      ]
    },
    {
      "cell_type": "code",
      "execution_count": null,
      "metadata": {
        "id": "Q9ya71zyOpfl"
      },
      "outputs": [],
      "source": []
    },
    {
      "cell_type": "markdown",
      "source": [
        "# Clone YOLOv5 and Set Up the Environment"
      ],
      "metadata": {
        "id": "S2qN0OXuPR8h"
      }
    },
    {
      "cell_type": "code",
      "source": [
        "# Clone the YOLOv5 repository\n",
        "!git clone https://github.com/ultralytics/yolov5  # Clone the YOLOv5 repo\n",
        "%cd yolov5\n",
        "\n",
        "# Install YOLOv5 dependencies\n",
        "%pip install -qr requirements.txt  # Install required packages\n",
        "%pip install -q roboflow  # Install Roboflow for data management (if needed)\n",
        "\n",
        "# Import required libraries\n",
        "import torch\n",
        "import os\n",
        "from IPython.display import Image, clear_output  # To display images\n",
        "\n",
        "# Verify setup\n",
        "print(f\"Setup complete. Using torch {torch.__version__} ({torch.cuda.get_device_properties(0).name if torch.cuda.is_available() else 'CPU'})\")\n"
      ],
      "metadata": {
        "id": "c4pc-ofBPVtf"
      },
      "execution_count": null,
      "outputs": []
    },
    {
      "cell_type": "markdown",
      "source": [
        "# Run Object Detection Using YOLOv5"
      ],
      "metadata": {
        "id": "_MX9BlhMPU9A"
      }
    },
    {
      "cell_type": "code",
      "source": [
        "# Run YOLOv5 object detection\n",
        "# Generalize the model and image source paths\n",
        "model_path = \"<PATH_TO_YOUR_MODEL>\"  # Replace with the path to your trained YOLOv5 model (e.g., 'BD_model.pt')\n",
        "image_source = \"<PATH_TO_YOUR_IMAGE_OR_VIDEO_FOLDER>\"  # Replace with the path to the folder or file containing images/videos\n",
        "\n",
        "\n",
        "# Command for object detection\n",
        "!python detect.py --weights {model_path} --img 3328 --conf 0.4 --source {image_source} --save-txt --hide-conf     # it will save the results in the runs/detect/exp/ directory.\n",
        "\n",
        "# Explanation:\n",
        "# --weights: Path to the trained YOLOv5 model file.\n",
        "# --img: Image size for processing (e.g., 640, 1280,2560, etc. pixels).\n",
        "# --conf: Confidence threshold for predictions (you can adjust).\n",
        "# --source: Path to the image or video source.\n",
        "# --save-txt: Save the detection results in text format.\n",
        "# --hide-conf: Hide confidence scores in the output images.\n"
      ],
      "metadata": {
        "id": "h3xwutDpPhJ3"
      },
      "execution_count": null,
      "outputs": []
    },
    {
      "cell_type": "markdown",
      "source": [
        "# Summarize the Detection Results"
      ],
      "metadata": {
        "id": "VWV-A3DTQLdm"
      }
    },
    {
      "cell_type": "code",
      "source": [
        "# Specify the directory containing label files\n",
        "dir = \"runs/detect/exp/labels\"  # Path to the folder with detection result labels\n",
        "\n",
        "# Open a file to save the summary\n",
        "summary_file = os.path.dirname(dir) + \"/summary.txt\"\n",
        "with open(summary_file, \"w\") as summary:\n",
        "    # Iterate through all label files in the directory\n",
        "    for file in os.listdir(dir):\n",
        "        # Count the number of lines (detections) in each label file\n",
        "        num_lines = sum(1 for _ in open(dir + \"/\" + file))\n",
        "        # Write the file name and number of detections to the summary\n",
        "        summary.write(file + \"\\t\" + str(num_lines) + \"\\n\")\n",
        "\n",
        "# Summary saved to the specified file\n",
        "print(f\"Summary of detections saved to: {summary_file}\")\n"
      ],
      "metadata": {
        "id": "e4_0xHzbQLut"
      },
      "execution_count": null,
      "outputs": []
    }
  ]
}